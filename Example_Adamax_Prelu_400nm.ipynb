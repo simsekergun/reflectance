{
  "nbformat": 4,
  "nbformat_minor": 0,
  "metadata": {
    "colab": {
      "name": "Example_Adamax_Prelu_400nm",
      "provenance": [],
      "collapsed_sections": []
    },
    "kernelspec": {
      "name": "python3",
      "display_name": "Python 3"
    }
  },
  "cells": [
    {
      "cell_type": "code",
      "metadata": {
        "id": "3f1-DDtNhH0N",
        "colab_type": "code",
        "colab": {}
      },
      "source": [
        "!pip install -q keras\n",
        "import tensorflow as tf\n",
        "from tensorflow import keras\n",
        "import numpy as np\n",
        "import matplotlib.pyplot as plt\n",
        "import pandas\n",
        "from numpy import zeros, newaxis\n",
        "from __future__ import absolute_import, division, print_function\n"
      ],
      "execution_count": 0,
      "outputs": []
    },
    {
      "cell_type": "code",
      "metadata": {
        "id": "fY7-oiiAhW60",
        "colab_type": "code",
        "colab": {}
      },
      "source": [
        "# load training data, p-polarization laser, silicon substrate\n",
        "df = pandas.read_csv('trainSiP.csv', header=None)\n",
        "# load training data, s-polarization laser, silicon substrate\n",
        "df2 = pandas.read_csv('trainSiS.csv', header=None)\n",
        "# load training data, p-polarization laser, glass substrate\n",
        "df3 = pandas.read_csv('trainGlP.csv', header=None)\n",
        "# load training data, s-polarization laser, glass substrate\n",
        "df4 = pandas.read_csv('trainGlS.csv', header=None)\n",
        "train_lines = np.dstack((df.values,df2.values,df3.values,df4.values))\n",
        "train_labels = np.arange(3060)\n",
        "# load experimental data, p-polarization laser, silicon substrate\n",
        "df1 = pandas.read_csv('testSiP.csv', header=None)\n",
        "# load experimental data, s-polarization laser, silicon substrate\n",
        "df2 = pandas.read_csv('testSiS.csv', header=None)\n",
        "# load experimental data, p-polarization laser, glass substrate\n",
        "df3 = pandas.read_csv('testGlP.csv', header=None)\n",
        "# load experimental data, s-polarization laser, glass substrate\n",
        "df4 = pandas.read_csv('testGlS.csv', header=None)\n",
        "test_line =  np.column_stack((df1.values,df2.values,df3.values,df4.values))"
      ],
      "execution_count": 0,
      "outputs": []
    },
    {
      "cell_type": "code",
      "metadata": {
        "id": "6AoX9hTBisQt",
        "colab_type": "code",
        "colab": {}
      },
      "source": [
        "from keras.layers.advanced_activations import LeakyReLU, PReLU\n",
        "from tensorflow.keras import layers\n",
        "model = keras.Sequential()\n",
        "model.add(keras.layers.Flatten(input_shape=(61,4)))\n",
        "model.add(keras.layers.Dense(3060))\n",
        "model.add(layers.PReLU(alpha_initializer='zeros', alpha_regularizer=None, alpha_constraint=None, shared_axes=None))\n",
        "model.add(keras.layers.Dense(3060, activation='softmax'))"
      ],
      "execution_count": 0,
      "outputs": []
    },
    {
      "cell_type": "code",
      "metadata": {
        "id": "1p3CdtVk9p5G",
        "colab_type": "code",
        "colab": {}
      },
      "source": [
        "model.compile(optimizer='Adamax', \n",
        "              loss='sparse_categorical_crossentropy',\n",
        "              metrics=['accuracy'])"
      ],
      "execution_count": 0,
      "outputs": []
    },
    {
      "cell_type": "code",
      "metadata": {
        "id": "50_O0U4slVT6",
        "colab_type": "code",
        "colab": {}
      },
      "source": [
        "counter = 0\n",
        "losses = np.array(0.0)\n",
        "accura = np.array(0.0)\n",
        "nrs = np.array(0.0)\n",
        "nis = np.array(0.0)\n",
        "while counter<601:  \n",
        "  history = model.fit(train_lines, train_labels, epochs=1, verbose=0)\n",
        "  losss = history.history['loss']\n",
        "  los = float(losss[0])\n",
        "  accc = history.history['acc']\n",
        "  accu = float(accc[0])\n",
        "    \n",
        "  losses = np.append(losses,los)\n",
        "  accura = np.append(accura,accu)\n",
        "  predictions = model.predict(test_line[newaxis,:, :])\n",
        "  indd = np.argsort(predictions)\n",
        "  wvals = predictions[0,indd[0,-4:]]\n",
        "  \n",
        "  rvals = (np.floor_divide(indd[0,-4:],61)+1)/10\n",
        "  ivals = (np.remainder(indd[0,-4:],51))/10\n",
        "  nr = np.sum(wvals*rvals)/np.sum(wvals)\n",
        "  ni = np.sum(wvals*ivals)/np.sum(wvals)\n",
        "  \n",
        "  print(counter, \"{:.3f}\".format(los),\"{:.3f}\".format(accu),\"{:.3f}\".format(nr),\"{:.3f}\".format(ni))\n",
        "  big_values = predictions[predictions>np.amax(predictions)/100]\n",
        "  if accu>0.5:\n",
        "    nrs = np.append(nrs,nr)\n",
        "    nis = np.append(nis,ni)\n",
        "  counter = counter + 1"
      ],
      "execution_count": 0,
      "outputs": []
    },
    {
      "cell_type": "code",
      "metadata": {
        "id": "LOCgQM60H5hH",
        "colab_type": "code",
        "colab": {}
      },
      "source": [
        "np.savetxt('adamax_prelu_400_losses.csv', [losses[1:]], delimiter=',')\n",
        "np.savetxt('adamax_prelu_400_accura.csv', [accura[1:]], delimiter=',')"
      ],
      "execution_count": 0,
      "outputs": []
    },
    {
      "cell_type": "code",
      "metadata": {
        "id": "ZM6yrh07hVeo",
        "colab_type": "code",
        "colab": {}
      },
      "source": [
        "predictions = model.predict(test_line[newaxis,:, :])\n",
        "plt.figure(figsize=(16,9))\n",
        "plt.plot(predictions.T)\n",
        "plt.show()"
      ],
      "execution_count": 0,
      "outputs": []
    },
    {
      "cell_type": "code",
      "metadata": {
        "id": "G8mLaLGF7QDu",
        "colab_type": "code",
        "colab": {}
      },
      "source": [
        "# TRUE ANSWER IS\n",
        "# 400   2.5051e+00 + 3.7393e+00i"
      ],
      "execution_count": 0,
      "outputs": []
    }
  ]
}
